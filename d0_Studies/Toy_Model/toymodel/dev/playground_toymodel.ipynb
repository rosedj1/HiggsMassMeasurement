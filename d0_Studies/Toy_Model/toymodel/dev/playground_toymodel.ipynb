{
 "cells": [
  {
   "cell_type": "code",
   "execution_count": 1,
   "metadata": {},
   "outputs": [
    {
     "name": "stdout",
     "output_type": "stream",
     "text": [
      "Welcome to JupyROOT 6.12/07\n"
     ]
    }
   ],
   "source": [
    "import os\n",
    "import ROOT as r\n",
    "# Package imports.\n",
    "from Toy_Model.utils.classes import HitPlotOrg, BiasPlotter\n",
    "from Utils_Python.Plot_Styles_ROOT.tdrstyle_official import setTDRStyle, tdrGrid"
   ]
  },
  {
   "cell_type": "code",
   "execution_count": 6,
   "metadata": {},
   "outputs": [],
   "source": [
    "line = lambda x: -2 + 4*x"
   ]
  },
  {
   "cell_type": "code",
   "execution_count": 7,
   "metadata": {},
   "outputs": [],
   "source": [
    "import numpy as np\n",
    "from array import array"
   ]
  },
  {
   "cell_type": "code",
   "execution_count": 8,
   "metadata": {},
   "outputs": [],
   "source": [
    "x_vals = np.linspace(-10, 10, 500)\n",
    "y_vals = line(x_vals)\n",
    "y_vals_smeared = y_vals + np.random.normal(loc=0.0, scale=3.0, size=len(x_vals))"
   ]
  },
  {
   "cell_type": "code",
   "execution_count": null,
   "metadata": {},
   "outputs": [],
   "source": [
    "def fit_graph_with_line(self, graph):\n",
    "    \"\"\"Return a linear fit function and after fitting it to graph.\"\"\"\n",
    "    x_min = min(self.d0_ls) \n",
    "    x_max = max(self.d0_ls)\n",
    "    x = r.RooRealVar(\"x\", \"d_{0} (impact parameter)\", x_min, x_max, \"cm\")  # (name, title, min, max, units)\n",
    "    fit_func = r.TF1('f1', '[0]+[1]*x', x_min, x_max)\n",
    "    fit_func.SetLineColor(2)\n",
    "    fit_func.SetLineWidth(1)\n",
    "    fit_func.SetLineStyle(2)\n",
    "    # Fit it onto a histogram `h1`:\n",
    "    graph.Fit(fit_func,'S')\n",
    "    # The option 'S' saves the fit results into a pointer.\n",
    "    r.gStyle.SetOptFit(111)\n",
    "    fit_func.Draw(\"same\")\n",
    "    return fit_func"
   ]
  },
  {
   "cell_type": "code",
   "execution_count": 9,
   "metadata": {},
   "outputs": [
    {
     "data": {
      "image/png": "[encoded data removed]",
      "text/plain": [
       "<IPython.core.display.Image object>"
      ]
     },
     "metadata": {},
     "output_type": "display_data"
    }
   ],
   "source": [
    "c1 = r.TCanvas()\n",
    "\n",
    "x_arr = array('f', x_vals)\n",
    "y_arr_smeared = array('f', y_vals_smeared)\n",
    "gr = r.TGraph(len(x_vals), x_arr, y_arr_smeared)\n",
    "\n",
    "gr.Draw(\"AP\")\n",
    "\n",
    "c1.Draw()"
   ]
  },
  {
   "cell_type": "code",
   "execution_count": 12,
   "metadata": {},
   "outputs": [],
   "source": [
    "x_min = min(x_arr)\n",
    "x_max = max(x_arr)\n",
    "x_test = r.RooRealVar(\"x_test\", \"d_{0} (impact parameter)\", x_min, x_max, \"cm\")"
   ]
  },
  {
   "cell_type": "code",
   "execution_count": null,
   "metadata": {},
   "outputs": [],
   "source": [
    "w = r.RooWorkspace('w')\n",
    "\n",
    "\n",
    "# p0 + p1*x\n",
    "p0 = r.RooRealVar(\"p0\", \"coefficient of x^0 term\", 0, -99, 99)\n",
    "p1 = r.RooRealVar(\"p1\", \"coefficient of x^1 term\", 1, -99, 99)\n",
    "\n",
    "poly = r.RooPolynomial(\"poly\", \"cubic polynomial\", x_test, r.RooArgList(p0, p1) )"
   ]
  }
 ],
 "metadata": {
  "kernelspec": {
   "display_name": "Python 2",
   "language": "python",
   "name": "python2"
  },
  "language_info": {
   "codemirror_mode": {
    "name": "ipython",
    "version": 2
   },
   "file_extension": ".py",
   "mimetype": "text/x-python",
   "name": "python",
   "nbconvert_exporter": "python",
   "pygments_lexer": "ipython2",
   "version": "2.7.14+"
  }
 },
 "nbformat": 4,
 "nbformat_minor": 2
}
